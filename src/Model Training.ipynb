{
 "cells": [
  {
   "cell_type": "code",
   "execution_count": 1,
   "id": "bd4fe27e",
   "metadata": {},
   "outputs": [],
   "source": [
    "import pandas as pd\n",
    "import numpy as np\n",
    "from utils import SiameseNetwork, train, set_seed, train_test_splitting, generate_embedding_pairs\n",
    "import torch\n",
    "import torch.nn as nn\n",
    "import torch.nn.functional as F\n",
    "import torch.optim as optim\n",
    "from torch.utils.data import Dataset, DataLoader\n",
    "import warnings\n",
    "warnings.filterwarnings('ignore')"
   ]
  },
  {
   "cell_type": "code",
   "execution_count": 2,
   "id": "4c43d7db",
   "metadata": {},
   "outputs": [],
   "source": [
    "seed = 496\n",
    "set_seed(seed)\n",
    "data = pd.read_parquet(\"../Datasets/embeddings.parquet\")"
   ]
  },
  {
   "cell_type": "code",
   "execution_count": 3,
   "id": "e7bc7b65",
   "metadata": {},
   "outputs": [
    {
     "data": {
      "text/plain": [
       "Index(['Author', 'Title', 'Section', 'Date', 'Cleaned_Content', 'Text_Length',\n",
       "       'Embedding'],\n",
       "      dtype='object')"
      ]
     },
     "execution_count": 3,
     "metadata": {},
     "output_type": "execute_result"
    }
   ],
   "source": [
    "data.columns"
   ]
  },
  {
   "cell_type": "code",
   "execution_count": 4,
   "id": "57b3d092",
   "metadata": {
    "scrolled": true
   },
   "outputs": [],
   "source": [
    "author_counts = data['Author'].value_counts()\n",
    "authors_with_enough_articles = author_counts[author_counts >= 5].index\n",
    "data_author = data[data['Author'].isin(authors_with_enough_articles)]\n",
    "data_length = data_author[data_author['Text_Length']> 4000]\n",
    "#pairings = create_pairings(data_length)"
   ]
  },
  {
   "cell_type": "code",
   "execution_count": 5,
   "id": "cfea8138",
   "metadata": {},
   "outputs": [
    {
     "name": "stdout",
     "output_type": "stream",
     "text": [
      "Train set size: 1268, Test set size: 223\n"
     ]
    }
   ],
   "source": [
    "train_df, test_df = train_test_splitting(data_length)\n",
    "print(f\"Train set size: {len(train_df)}, Test set size: {len(test_df)}\")"
   ]
  },
  {
   "cell_type": "code",
   "execution_count": 6,
   "id": "3b790777",
   "metadata": {},
   "outputs": [],
   "source": [
    "pairings = generate_embedding_pairs(train_df, seed)"
   ]
  },
  {
   "cell_type": "code",
   "execution_count": 7,
   "id": "50c02c64",
   "metadata": {},
   "outputs": [
    {
     "name": "stdout",
     "output_type": "stream",
     "text": [
      "12562\n",
      "12562\n"
     ]
    }
   ],
   "source": [
    "count_0 = 0\n",
    "count_1 = 0\n",
    "for x in pairings:\n",
    "    if x[2] == 0:\n",
    "        count_0 += 1\n",
    "    elif x[2] == 1:\n",
    "        count_1 += 1\n",
    "        \n",
    "print(count_0)\n",
    "print(count_1)"
   ]
  },
  {
   "cell_type": "code",
   "execution_count": 8,
   "id": "dc1880ac",
   "metadata": {
    "scrolled": false
   },
   "outputs": [],
   "source": [
    "class AuthorshipVerificationDataset(Dataset):\n",
    "    def __init__(self, samples):\n",
    "        self.samples = samples\n",
    "    \n",
    "    def __len__(self):\n",
    "        return len(self.samples)\n",
    "    \n",
    "    def __getitem__(self, idx):\n",
    "        sample = self.samples[idx]\n",
    "        emb1, emb2, label = sample\n",
    "        return emb1, emb2, torch.tensor(label, dtype=torch.float)\n",
    "\n",
    "# Convert to Dataset and DataLoader\n",
    "dataset = AuthorshipVerificationDataset(pairings)\n",
    "dataloader = DataLoader(dataset, batch_size=32, shuffle=True)"
   ]
  },
  {
   "cell_type": "code",
   "execution_count": 9,
   "id": "f2c5dc7b",
   "metadata": {},
   "outputs": [
    {
     "name": "stdout",
     "output_type": "stream",
     "text": [
      "Epoch 1, Loss: 0.570449318253357\n",
      "Epoch 2, Loss: 0.549397030935336\n",
      "Epoch 3, Loss: 0.5431215385823456\n",
      "Epoch 4, Loss: 0.5457746860862688\n",
      "Epoch 5, Loss: 0.5430910356399667\n",
      "Epoch 6, Loss: 0.5586931243652605\n",
      "Epoch 7, Loss: 0.5424103862001696\n",
      "Epoch 8, Loss: 0.5428302722956995\n",
      "Epoch 9, Loss: 0.561691116020273\n",
      "Epoch 10, Loss: 0.5499743254281789\n"
     ]
    }
   ],
   "source": [
    "set_seed(496)\n",
    "model = SiameseNetwork(embedding_dim=1536, output_dim=128)\n",
    "\n",
    "optimizer = torch.optim.Adam(model.parameters(), lr=0.001)\n",
    "criterion = nn.BCELoss()\n",
    "\n",
    "train(model, dataloader, epochs=10, optimizer=optimizer, criterion=criterion)"
   ]
  },
  {
   "cell_type": "code",
   "execution_count": 10,
   "id": "5bdf9fa3",
   "metadata": {},
   "outputs": [],
   "source": [
    "from torch.utils.data import TensorDataset, DataLoader\n",
    "\n",
    "embeddings_tensor = torch.stack(test_df['Embedding'].apply(lambda emb: torch.tensor(emb, dtype=torch.float32)).tolist())\n",
    "\n",
    "# Create a DataLoader for your embeddings\n",
    "embeddings_dataset = TensorDataset(embeddings_tensor)\n",
    "embeddings_loader = DataLoader(embeddings_dataset, batch_size=32)\n",
    "\n",
    "def extract_embeddings(model, loader):\n",
    "    model.eval()\n",
    "    embeddings = []\n",
    "    with torch.no_grad():\n",
    "        for batch in loader:\n",
    "            emb = batch[0]\n",
    "            emb = model.forward_once(emb).cpu().numpy()\n",
    "            embeddings.extend(emb)\n",
    "    return np.array(embeddings)\n",
    "\n",
    "extracted_embeddings = extract_embeddings(model, embeddings_loader)"
   ]
  },
  {
   "cell_type": "code",
   "execution_count": 11,
   "id": "f8d52da1",
   "metadata": {},
   "outputs": [
    {
     "name": "stdout",
     "output_type": "stream",
     "text": [
      "(223, 128)\n"
     ]
    }
   ],
   "source": [
    "print(extracted_embeddings.shape)"
   ]
  },
  {
   "cell_type": "code",
   "execution_count": 12,
   "id": "941fc207",
   "metadata": {},
   "outputs": [],
   "source": [
    "from sklearn.manifold import TSNE\n",
    "import matplotlib.pyplot as plt\n",
    "\n",
    "# Apply t-SNE to reduce the embeddings to 2 dimensions\n",
    "tsne = TSNE(n_components=2, random_state=42)\n"
   ]
  },
  {
   "cell_type": "code",
   "execution_count": null,
   "id": "b058621e",
   "metadata": {},
   "outputs": [],
   "source": [
    "embeddings_2d = tsne.fit_transform(extracted_embeddings)"
   ]
  },
  {
   "cell_type": "code",
   "execution_count": null,
   "id": "77a12cb1",
   "metadata": {},
   "outputs": [],
   "source": []
  }
 ],
 "metadata": {
  "kernelspec": {
   "display_name": "Python 3 (ipykernel)",
   "language": "python",
   "name": "python3"
  },
  "language_info": {
   "codemirror_mode": {
    "name": "ipython",
    "version": 3
   },
   "file_extension": ".py",
   "mimetype": "text/x-python",
   "name": "python",
   "nbconvert_exporter": "python",
   "pygments_lexer": "ipython3",
   "version": "3.9.13"
  }
 },
 "nbformat": 4,
 "nbformat_minor": 5
}
