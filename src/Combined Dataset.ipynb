{
 "cells": [
  {
   "cell_type": "code",
   "execution_count": 1,
   "id": "c1997459",
   "metadata": {},
   "outputs": [],
   "source": [
    "import pandas as pd\n",
    "import numpy as np"
   ]
  },
  {
   "cell_type": "code",
   "execution_count": 2,
   "id": "32743f91",
   "metadata": {},
   "outputs": [],
   "source": [
    "politics_news = pd.read_csv(\"../Datasets/TGC/Politics/TGC_Politics.csv\")\n",
    "society_news = pd.read_csv(\"../Datasets/TGC/Society/TGC_Society.csv\")\n",
    "world_news = pd.read_csv(\"../Datasets/TGC/World/TGC_World.csv\")\n",
    "uk_news = pd.read_csv(\"../Datasets/TGC/UK/TGC_UK.csv\")"
   ]
  },
  {
   "cell_type": "code",
   "execution_count": 3,
   "id": "c5d32337",
   "metadata": {},
   "outputs": [],
   "source": [
    "combined_dataset = pd.concat([politics_news, society_news, world_news, uk_news])"
   ]
  },
  {
   "cell_type": "code",
   "execution_count": 4,
   "id": "1feb79a2",
   "metadata": {},
   "outputs": [],
   "source": [
    "combined_dataset = combined_dataset[combined_dataset['Author'] != \"Unknown\"]"
   ]
  },
  {
   "cell_type": "code",
   "execution_count": 5,
   "id": "d17a1382",
   "metadata": {},
   "outputs": [],
   "source": [
    "combined_dataset = combined_dataset[combined_dataset['Text_Length'] >= 500]\n",
    "combined_dataset = combined_dataset[combined_dataset['Text_Length'] <= 5000]"
   ]
  },
  {
   "cell_type": "code",
   "execution_count": 6,
   "id": "578c25bb",
   "metadata": {},
   "outputs": [
    {
     "data": {
      "text/html": [
       "<div>\n",
       "<style scoped>\n",
       "    .dataframe tbody tr th:only-of-type {\n",
       "        vertical-align: middle;\n",
       "    }\n",
       "\n",
       "    .dataframe tbody tr th {\n",
       "        vertical-align: top;\n",
       "    }\n",
       "\n",
       "    .dataframe thead th {\n",
       "        text-align: right;\n",
       "    }\n",
       "</style>\n",
       "<table border=\"1\" class=\"dataframe\">\n",
       "  <thead>\n",
       "    <tr style=\"text-align: right;\">\n",
       "      <th></th>\n",
       "      <th>max</th>\n",
       "      <th>min</th>\n",
       "    </tr>\n",
       "    <tr>\n",
       "      <th>Section</th>\n",
       "      <th></th>\n",
       "      <th></th>\n",
       "    </tr>\n",
       "  </thead>\n",
       "  <tbody>\n",
       "    <tr>\n",
       "      <th>Politics</th>\n",
       "      <td>4996</td>\n",
       "      <td>792</td>\n",
       "    </tr>\n",
       "    <tr>\n",
       "      <th>Society</th>\n",
       "      <td>5000</td>\n",
       "      <td>694</td>\n",
       "    </tr>\n",
       "    <tr>\n",
       "      <th>UK news</th>\n",
       "      <td>4995</td>\n",
       "      <td>606</td>\n",
       "    </tr>\n",
       "    <tr>\n",
       "      <th>World news</th>\n",
       "      <td>4999</td>\n",
       "      <td>652</td>\n",
       "    </tr>\n",
       "  </tbody>\n",
       "</table>\n",
       "</div>"
      ],
      "text/plain": [
       "             max  min\n",
       "Section              \n",
       "Politics    4996  792\n",
       "Society     5000  694\n",
       "UK news     4995  606\n",
       "World news  4999  652"
      ]
     },
     "execution_count": 6,
     "metadata": {},
     "output_type": "execute_result"
    }
   ],
   "source": [
    "combined_dataset.groupby('Section')['Text_Length'].agg(['max', 'min'])"
   ]
  },
  {
   "cell_type": "markdown",
   "id": "78e599a3",
   "metadata": {},
   "source": [
    "### Author Summary"
   ]
  },
  {
   "cell_type": "code",
   "execution_count": 7,
   "id": "cc7e0d8a",
   "metadata": {},
   "outputs": [],
   "source": [
    "author_summary = combined_dataset.groupby([\"Author\"])['Content'].nunique()"
   ]
  },
  {
   "cell_type": "code",
   "execution_count": 8,
   "id": "bb2cf3d6",
   "metadata": {},
   "outputs": [],
   "source": [
    "author_summary = author_summary.reset_index()"
   ]
  },
  {
   "cell_type": "code",
   "execution_count": 9,
   "id": "708afa84",
   "metadata": {},
   "outputs": [],
   "source": [
    "def article_count(size, df):\n",
    "    return len(df[df['Content'] >= size])"
   ]
  },
  {
   "cell_type": "code",
   "execution_count": 10,
   "id": "c7eb3f99",
   "metadata": {},
   "outputs": [],
   "source": [
    "author_article_counts = {}\n",
    "for size in [5, 10, 15, 20, 25, 50, 100]:\n",
    "    author_article_counts[\"Number of authors with articles > \"+str(size)] = article_count(size,author_summary)"
   ]
  },
  {
   "cell_type": "code",
   "execution_count": 11,
   "id": "ba7534aa",
   "metadata": {},
   "outputs": [
    {
     "data": {
      "text/plain": [
       "{'Number of authors with articles > 5': 147,\n",
       " 'Number of authors with articles > 10': 100,\n",
       " 'Number of authors with articles > 15': 82,\n",
       " 'Number of authors with articles > 20': 65,\n",
       " 'Number of authors with articles > 25': 55,\n",
       " 'Number of authors with articles > 50': 32,\n",
       " 'Number of authors with articles > 100': 4}"
      ]
     },
     "execution_count": 11,
     "metadata": {},
     "output_type": "execute_result"
    }
   ],
   "source": [
    "author_article_counts"
   ]
  },
  {
   "cell_type": "markdown",
   "id": "761a57ec",
   "metadata": {},
   "source": [
    "### Section Level Summary"
   ]
  },
  {
   "cell_type": "code",
   "execution_count": 12,
   "id": "a34330c3",
   "metadata": {},
   "outputs": [
    {
     "data": {
      "text/plain": [
       "Section\n",
       "Politics      125\n",
       "Society       179\n",
       "UK news       151\n",
       "World news    226\n",
       "Name: Author, dtype: int64"
      ]
     },
     "execution_count": 12,
     "metadata": {},
     "output_type": "execute_result"
    }
   ],
   "source": [
    "combined_dataset.groupby(\"Section\")[\"Author\"].nunique()"
   ]
  },
  {
   "cell_type": "code",
   "execution_count": 13,
   "id": "61f81d79",
   "metadata": {},
   "outputs": [],
   "source": [
    "section_summary = combined_dataset.groupby([\"Section\", \"Author\"])['Content'].nunique()"
   ]
  },
  {
   "cell_type": "code",
   "execution_count": 14,
   "id": "5a7994d6",
   "metadata": {},
   "outputs": [],
   "source": [
    "section_summary = section_summary.reset_index()"
   ]
  },
  {
   "cell_type": "code",
   "execution_count": 15,
   "id": "2fa46971",
   "metadata": {},
   "outputs": [],
   "source": [
    "section_article_counts = {}\n",
    "for size in [5, 10, 15, 20, 25, 50, 100]:\n",
    "    section_article_counts[\"Number of authors with articles > \"+str(size)] = article_count(size, section_summary)"
   ]
  },
  {
   "cell_type": "code",
   "execution_count": 16,
   "id": "74a8d280",
   "metadata": {},
   "outputs": [
    {
     "data": {
      "text/plain": [
       "{'Number of authors with articles > 5': 231,\n",
       " 'Number of authors with articles > 10': 128,\n",
       " 'Number of authors with articles > 15': 86,\n",
       " 'Number of authors with articles > 20': 63,\n",
       " 'Number of authors with articles > 25': 47,\n",
       " 'Number of authors with articles > 50': 15,\n",
       " 'Number of authors with articles > 100': 1}"
      ]
     },
     "execution_count": 16,
     "metadata": {},
     "output_type": "execute_result"
    }
   ],
   "source": [
    "section_article_counts"
   ]
  },
  {
   "cell_type": "code",
   "execution_count": 17,
   "id": "a0f01922",
   "metadata": {},
   "outputs": [
    {
     "data": {
      "text/html": [
       "<div>\n",
       "<style scoped>\n",
       "    .dataframe tbody tr th:only-of-type {\n",
       "        vertical-align: middle;\n",
       "    }\n",
       "\n",
       "    .dataframe tbody tr th {\n",
       "        vertical-align: top;\n",
       "    }\n",
       "\n",
       "    .dataframe thead th {\n",
       "        text-align: right;\n",
       "    }\n",
       "</style>\n",
       "<table border=\"1\" class=\"dataframe\">\n",
       "  <thead>\n",
       "    <tr style=\"text-align: right;\">\n",
       "      <th></th>\n",
       "      <th>Section</th>\n",
       "      <th>Author</th>\n",
       "      <th>Content</th>\n",
       "    </tr>\n",
       "  </thead>\n",
       "  <tbody>\n",
       "    <tr>\n",
       "      <th>0</th>\n",
       "      <td>Politics</td>\n",
       "      <td>Aamna Mohdin</td>\n",
       "      <td>3</td>\n",
       "    </tr>\n",
       "    <tr>\n",
       "      <th>1</th>\n",
       "      <td>Politics</td>\n",
       "      <td>Aaron Walawalkar</td>\n",
       "      <td>2</td>\n",
       "    </tr>\n",
       "    <tr>\n",
       "      <th>2</th>\n",
       "      <td>Politics</td>\n",
       "      <td>Alex Hern</td>\n",
       "      <td>6</td>\n",
       "    </tr>\n",
       "    <tr>\n",
       "      <th>3</th>\n",
       "      <td>Politics</td>\n",
       "      <td>Alexandra Topping</td>\n",
       "      <td>6</td>\n",
       "    </tr>\n",
       "    <tr>\n",
       "      <th>4</th>\n",
       "      <td>Politics</td>\n",
       "      <td>Alison Rourke</td>\n",
       "      <td>2</td>\n",
       "    </tr>\n",
       "    <tr>\n",
       "      <th>...</th>\n",
       "      <td>...</td>\n",
       "      <td>...</td>\n",
       "      <td>...</td>\n",
       "    </tr>\n",
       "    <tr>\n",
       "      <th>676</th>\n",
       "      <td>World news</td>\n",
       "      <td>Warren Murray</td>\n",
       "      <td>1</td>\n",
       "    </tr>\n",
       "    <tr>\n",
       "      <th>677</th>\n",
       "      <td>World news</td>\n",
       "      <td>Weronika Strzyżyńska</td>\n",
       "      <td>2</td>\n",
       "    </tr>\n",
       "    <tr>\n",
       "      <th>678</th>\n",
       "      <td>World news</td>\n",
       "      <td>Will Dean</td>\n",
       "      <td>2</td>\n",
       "    </tr>\n",
       "    <tr>\n",
       "      <th>679</th>\n",
       "      <td>World news</td>\n",
       "      <td>William Costa</td>\n",
       "      <td>1</td>\n",
       "    </tr>\n",
       "    <tr>\n",
       "      <th>680</th>\n",
       "      <td>World news</td>\n",
       "      <td>Zoe Williams</td>\n",
       "      <td>2</td>\n",
       "    </tr>\n",
       "  </tbody>\n",
       "</table>\n",
       "<p>681 rows × 3 columns</p>\n",
       "</div>"
      ],
      "text/plain": [
       "        Section                Author  Content\n",
       "0      Politics          Aamna Mohdin        3\n",
       "1      Politics      Aaron Walawalkar        2\n",
       "2      Politics             Alex Hern        6\n",
       "3      Politics     Alexandra Topping        6\n",
       "4      Politics         Alison Rourke        2\n",
       "..          ...                   ...      ...\n",
       "676  World news         Warren Murray        1\n",
       "677  World news  Weronika Strzyżyńska        2\n",
       "678  World news             Will Dean        2\n",
       "679  World news         William Costa        1\n",
       "680  World news          Zoe Williams        2\n",
       "\n",
       "[681 rows x 3 columns]"
      ]
     },
     "execution_count": 17,
     "metadata": {},
     "output_type": "execute_result"
    }
   ],
   "source": [
    "section_summary"
   ]
  },
  {
   "cell_type": "code",
   "execution_count": 18,
   "id": "91a9590c",
   "metadata": {},
   "outputs": [],
   "source": [
    "def count_authors(group):\n",
    "    content_counts = group['Content'].count()\n",
    "    return pd.Series({\n",
    "        '>5': (content_counts >= 5).sum(),\n",
    "        '>10': (content_counts >= 10).sum(),\n",
    "        '>15': (content_counts >= 15).sum(),\n",
    "        '>20': (content_counts >= 20).sum(),\n",
    "        '>25': (content_counts >= 25).sum(),\n",
    "        '>50': (content_counts >= 50).sum(),\n",
    "        '>100': (content_counts >= 100).sum(),\n",
    "    })"
   ]
  },
  {
   "cell_type": "code",
   "execution_count": 19,
   "id": "a1b2fd46",
   "metadata": {},
   "outputs": [],
   "source": [
    "ac = section_summary.groupby(['Section', 'Author']).apply(count_authors).reset_index()\n",
    "\n",
    "# Pivot the table to get the desired format\n",
    "result = ac.pivot_table(index='Section', aggfunc='sum')\n"
   ]
  },
  {
   "cell_type": "code",
   "execution_count": 20,
   "id": "37313b25",
   "metadata": {},
   "outputs": [],
   "source": [
    "# Define the thresholds\n",
    "thresholds = [5, 10, 15, 20, 25, 50, 100]\n",
    "\n",
    "# Function to count authors exceeding thresholds\n",
    "def count_authors_exceeding_thresholds(sub_df):\n",
    "    counts = {}\n",
    "    for threshold in thresholds:\n",
    "        counts[f'Authors_with_content_over_{threshold}'] = (sub_df['Content'] >= threshold).sum()\n",
    "    return pd.Series(counts)\n",
    "\n",
    "# Apply the function for each section\n",
    "result = section_summary.groupby('Section').apply(count_authors_exceeding_thresholds)\n"
   ]
  },
  {
   "cell_type": "code",
   "execution_count": 21,
   "id": "41c4e3ea",
   "metadata": {},
   "outputs": [
    {
     "data": {
      "text/html": [
       "<div>\n",
       "<style scoped>\n",
       "    .dataframe tbody tr th:only-of-type {\n",
       "        vertical-align: middle;\n",
       "    }\n",
       "\n",
       "    .dataframe tbody tr th {\n",
       "        vertical-align: top;\n",
       "    }\n",
       "\n",
       "    .dataframe thead th {\n",
       "        text-align: right;\n",
       "    }\n",
       "</style>\n",
       "<table border=\"1\" class=\"dataframe\">\n",
       "  <thead>\n",
       "    <tr style=\"text-align: right;\">\n",
       "      <th></th>\n",
       "      <th>Authors_with_content_over_5</th>\n",
       "      <th>Authors_with_content_over_10</th>\n",
       "      <th>Authors_with_content_over_15</th>\n",
       "      <th>Authors_with_content_over_20</th>\n",
       "      <th>Authors_with_content_over_25</th>\n",
       "      <th>Authors_with_content_over_50</th>\n",
       "      <th>Authors_with_content_over_100</th>\n",
       "    </tr>\n",
       "    <tr>\n",
       "      <th>Section</th>\n",
       "      <th></th>\n",
       "      <th></th>\n",
       "      <th></th>\n",
       "      <th></th>\n",
       "      <th></th>\n",
       "      <th></th>\n",
       "      <th></th>\n",
       "    </tr>\n",
       "  </thead>\n",
       "  <tbody>\n",
       "    <tr>\n",
       "      <th>Politics</th>\n",
       "      <td>52</td>\n",
       "      <td>26</td>\n",
       "      <td>19</td>\n",
       "      <td>15</td>\n",
       "      <td>12</td>\n",
       "      <td>4</td>\n",
       "      <td>0</td>\n",
       "    </tr>\n",
       "    <tr>\n",
       "      <th>Society</th>\n",
       "      <td>52</td>\n",
       "      <td>29</td>\n",
       "      <td>20</td>\n",
       "      <td>13</td>\n",
       "      <td>10</td>\n",
       "      <td>4</td>\n",
       "      <td>0</td>\n",
       "    </tr>\n",
       "    <tr>\n",
       "      <th>UK news</th>\n",
       "      <td>60</td>\n",
       "      <td>39</td>\n",
       "      <td>27</td>\n",
       "      <td>22</td>\n",
       "      <td>19</td>\n",
       "      <td>6</td>\n",
       "      <td>1</td>\n",
       "    </tr>\n",
       "    <tr>\n",
       "      <th>World news</th>\n",
       "      <td>67</td>\n",
       "      <td>34</td>\n",
       "      <td>20</td>\n",
       "      <td>13</td>\n",
       "      <td>6</td>\n",
       "      <td>1</td>\n",
       "      <td>0</td>\n",
       "    </tr>\n",
       "  </tbody>\n",
       "</table>\n",
       "</div>"
      ],
      "text/plain": [
       "            Authors_with_content_over_5  Authors_with_content_over_10  \\\n",
       "Section                                                                 \n",
       "Politics                             52                            26   \n",
       "Society                              52                            29   \n",
       "UK news                              60                            39   \n",
       "World news                           67                            34   \n",
       "\n",
       "            Authors_with_content_over_15  Authors_with_content_over_20  \\\n",
       "Section                                                                  \n",
       "Politics                              19                            15   \n",
       "Society                               20                            13   \n",
       "UK news                               27                            22   \n",
       "World news                            20                            13   \n",
       "\n",
       "            Authors_with_content_over_25  Authors_with_content_over_50  \\\n",
       "Section                                                                  \n",
       "Politics                              12                             4   \n",
       "Society                               10                             4   \n",
       "UK news                               19                             6   \n",
       "World news                             6                             1   \n",
       "\n",
       "            Authors_with_content_over_100  \n",
       "Section                                    \n",
       "Politics                                0  \n",
       "Society                                 0  \n",
       "UK news                                 1  \n",
       "World news                              0  "
      ]
     },
     "execution_count": 21,
     "metadata": {},
     "output_type": "execute_result"
    }
   ],
   "source": [
    "result"
   ]
  },
  {
   "cell_type": "code",
   "execution_count": 22,
   "id": "30be0a61",
   "metadata": {},
   "outputs": [
    {
     "data": {
      "text/plain": [
       "16825114"
      ]
     },
     "execution_count": 22,
     "metadata": {},
     "output_type": "execute_result"
    }
   ],
   "source": [
    "sum(combined_dataset.Text_Length)"
   ]
  },
  {
   "cell_type": "code",
   "execution_count": 23,
   "id": "454e9fcf",
   "metadata": {},
   "outputs": [
    {
     "data": {
      "text/plain": [
       "3528.0171943803734"
      ]
     },
     "execution_count": 23,
     "metadata": {},
     "output_type": "execute_result"
    }
   ],
   "source": [
    "np.mean(combined_dataset.Text_Length)"
   ]
  },
  {
   "cell_type": "code",
   "execution_count": 24,
   "id": "9cd078c1",
   "metadata": {},
   "outputs": [
    {
     "data": {
      "text/plain": [
       "(4769, 8)"
      ]
     },
     "execution_count": 24,
     "metadata": {},
     "output_type": "execute_result"
    }
   ],
   "source": [
    "combined_dataset.shape"
   ]
  },
  {
   "cell_type": "code",
   "execution_count": 25,
   "id": "6780aa07",
   "metadata": {},
   "outputs": [],
   "source": [
    "author_sections = combined_dataset.groupby(\"Author\")[\"Section\"].nunique()"
   ]
  },
  {
   "cell_type": "code",
   "execution_count": 26,
   "id": "27648453",
   "metadata": {},
   "outputs": [],
   "source": [
    "author_sections = author_sections.reset_index()"
   ]
  },
  {
   "cell_type": "code",
   "execution_count": 27,
   "id": "0f23fe8b",
   "metadata": {},
   "outputs": [
    {
     "data": {
      "text/html": [
       "<div>\n",
       "<style scoped>\n",
       "    .dataframe tbody tr th:only-of-type {\n",
       "        vertical-align: middle;\n",
       "    }\n",
       "\n",
       "    .dataframe tbody tr th {\n",
       "        vertical-align: top;\n",
       "    }\n",
       "\n",
       "    .dataframe thead th {\n",
       "        text-align: right;\n",
       "    }\n",
       "</style>\n",
       "<table border=\"1\" class=\"dataframe\">\n",
       "  <thead>\n",
       "    <tr style=\"text-align: right;\">\n",
       "      <th></th>\n",
       "      <th>Author</th>\n",
       "      <th>Section</th>\n",
       "    </tr>\n",
       "  </thead>\n",
       "  <tbody>\n",
       "    <tr>\n",
       "      <th>0</th>\n",
       "      <td>Aamna Mohdin</td>\n",
       "      <td>4</td>\n",
       "    </tr>\n",
       "    <tr>\n",
       "      <th>1</th>\n",
       "      <td>Aaron Walawalkar</td>\n",
       "      <td>4</td>\n",
       "    </tr>\n",
       "    <tr>\n",
       "      <th>6</th>\n",
       "      <td>Alex Hern</td>\n",
       "      <td>4</td>\n",
       "    </tr>\n",
       "    <tr>\n",
       "      <th>7</th>\n",
       "      <td>Alexandra Topping</td>\n",
       "      <td>4</td>\n",
       "    </tr>\n",
       "    <tr>\n",
       "      <th>12</th>\n",
       "      <td>Amelia Gentleman</td>\n",
       "      <td>3</td>\n",
       "    </tr>\n",
       "    <tr>\n",
       "      <th>...</th>\n",
       "      <td>...</td>\n",
       "      <td>...</td>\n",
       "    </tr>\n",
       "    <tr>\n",
       "      <th>337</th>\n",
       "      <td>Toby Helm</td>\n",
       "      <td>3</td>\n",
       "    </tr>\n",
       "    <tr>\n",
       "      <th>341</th>\n",
       "      <td>Tom Wall</td>\n",
       "      <td>4</td>\n",
       "    </tr>\n",
       "    <tr>\n",
       "      <th>344</th>\n",
       "      <td>Vanessa Thorpe</td>\n",
       "      <td>3</td>\n",
       "    </tr>\n",
       "    <tr>\n",
       "      <th>347</th>\n",
       "      <td>Vikram Dodd</td>\n",
       "      <td>3</td>\n",
       "    </tr>\n",
       "    <tr>\n",
       "      <th>360</th>\n",
       "      <td>Zoe Williams</td>\n",
       "      <td>3</td>\n",
       "    </tr>\n",
       "  </tbody>\n",
       "</table>\n",
       "<p>102 rows × 2 columns</p>\n",
       "</div>"
      ],
      "text/plain": [
       "                Author  Section\n",
       "0         Aamna Mohdin        4\n",
       "1     Aaron Walawalkar        4\n",
       "6            Alex Hern        4\n",
       "7    Alexandra Topping        4\n",
       "12    Amelia Gentleman        3\n",
       "..                 ...      ...\n",
       "337          Toby Helm        3\n",
       "341           Tom Wall        4\n",
       "344     Vanessa Thorpe        3\n",
       "347        Vikram Dodd        3\n",
       "360       Zoe Williams        3\n",
       "\n",
       "[102 rows x 2 columns]"
      ]
     },
     "execution_count": 27,
     "metadata": {},
     "output_type": "execute_result"
    }
   ],
   "source": [
    "author_sections[author_sections['Section'] > 2]"
   ]
  },
  {
   "cell_type": "code",
   "execution_count": 29,
   "id": "1455d02e",
   "metadata": {},
   "outputs": [],
   "source": [
    "combined_dataset.to_csv(\"../Datasets/TGC/combined_data.csv\")"
   ]
  },
  {
   "cell_type": "code",
   "execution_count": 30,
   "id": "4fa0431b",
   "metadata": {},
   "outputs": [
    {
     "data": {
      "text/plain": [
       "(4769, 8)"
      ]
     },
     "execution_count": 30,
     "metadata": {},
     "output_type": "execute_result"
    }
   ],
   "source": [
    "combined_dataset.shape"
   ]
  },
  {
   "cell_type": "code",
   "execution_count": null,
   "id": "8d9a17a6",
   "metadata": {},
   "outputs": [],
   "source": []
  }
 ],
 "metadata": {
  "kernelspec": {
   "display_name": "Python 3 (ipykernel)",
   "language": "python",
   "name": "python3"
  },
  "language_info": {
   "codemirror_mode": {
    "name": "ipython",
    "version": 3
   },
   "file_extension": ".py",
   "mimetype": "text/x-python",
   "name": "python",
   "nbconvert_exporter": "python",
   "pygments_lexer": "ipython3",
   "version": "3.9.13"
  }
 },
 "nbformat": 4,
 "nbformat_minor": 5
}
