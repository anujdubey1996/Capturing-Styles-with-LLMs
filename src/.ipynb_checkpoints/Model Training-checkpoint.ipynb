{
 "cells": [
  {
   "cell_type": "code",
   "execution_count": 1,
   "id": "bd4fe27e",
   "metadata": {},
   "outputs": [],
   "source": [
    "import pandas as pd\n",
    "import numpy as np\n",
    "from utils import create_pairings, SiameseNetwork, train_siamese, set_seed, train_test_splitting, generate_embedding_pairs\n",
    "import torch\n",
    "import torch.nn as nn\n",
    "import torch.nn.functional as F\n",
    "import torch.optim as optim\n",
    "from torch.utils.data import Dataset, DataLoader\n",
    "import warnings\n",
    "warnings.filterwarnings('ignore')"
   ]
  },
  {
   "cell_type": "code",
   "execution_count": 2,
   "id": "4c43d7db",
   "metadata": {},
   "outputs": [],
   "source": [
    "seed = 496\n",
    "set_seed(seed)\n",
    "data = pd.read_parquet(\"../Datasets/embeddings.parquet\")"
   ]
  },
  {
   "cell_type": "code",
   "execution_count": 3,
   "id": "e7bc7b65",
   "metadata": {},
   "outputs": [
    {
     "data": {
      "text/plain": [
       "Index(['Author', 'Title', 'Section', 'Date', 'Cleaned_Content', 'Text_Length',\n",
       "       'Embedding'],\n",
       "      dtype='object')"
      ]
     },
     "execution_count": 3,
     "metadata": {},
     "output_type": "execute_result"
    }
   ],
   "source": [
    "data.columns"
   ]
  },
  {
   "cell_type": "code",
   "execution_count": 4,
   "id": "57b3d092",
   "metadata": {
    "scrolled": true
   },
   "outputs": [],
   "source": [
    "author_counts = data['Author'].value_counts()\n",
    "authors_with_enough_articles = author_counts[author_counts >= 5].index\n",
    "data_author = data[data['Author'].isin(authors_with_enough_articles)]\n",
    "data_length = data_author[data_author['Text_Length']> 4000]\n",
    "#pairings = create_pairings(data_length)"
   ]
  },
  {
   "cell_type": "code",
   "execution_count": 5,
   "id": "cfea8138",
   "metadata": {},
   "outputs": [
    {
     "name": "stdout",
     "output_type": "stream",
     "text": [
      "Train set size: 1268, Test set size: 223\n"
     ]
    }
   ],
   "source": [
    "train_df, test_df = train_test_splitting(data_length)\n",
    "print(f\"Train set size: {len(train_df)}, Test set size: {len(test_df)}\")"
   ]
  },
  {
   "cell_type": "code",
   "execution_count": 14,
   "id": "3b790777",
   "metadata": {},
   "outputs": [],
   "source": [
    "pairings = generate_embedding_pairs(train_df, seed)"
   ]
  },
  {
   "cell_type": "code",
   "execution_count": 15,
   "id": "50c02c64",
   "metadata": {},
   "outputs": [],
   "source": [
    "count_0 = 0\n",
    "count_1 = 0\n",
    "for x in pairings:\n",
    "    if x[2] == 0:\n",
    "        count_0 += 1\n",
    "    elif x[2] == 1:\n",
    "        count_1 += 1"
   ]
  },
  {
   "cell_type": "code",
   "execution_count": 16,
   "id": "9b992e3d",
   "metadata": {
    "scrolled": true
   },
   "outputs": [
    {
     "name": "stdout",
     "output_type": "stream",
     "text": [
      "12562\n",
      "12562\n"
     ]
    }
   ],
   "source": [
    "print(count_0)\n",
    "print(count_1)"
   ]
  },
  {
   "cell_type": "code",
   "execution_count": 9,
   "id": "758364c6",
   "metadata": {},
   "outputs": [
    {
     "data": {
      "text/plain": [
       "(tensor([ 0.0481,  0.0749,  0.0515,  ..., -0.0137, -0.0066,  0.0017]),\n",
       " tensor([-0.0110,  0.0466,  0.0847,  ..., -0.0053, -0.0050,  0.0007]),\n",
       " 0)"
      ]
     },
     "execution_count": 9,
     "metadata": {},
     "output_type": "execute_result"
    }
   ],
   "source": [
    "pairings[0]"
   ]
  },
  {
   "cell_type": "code",
   "execution_count": 10,
   "id": "dc1880ac",
   "metadata": {
    "scrolled": false
   },
   "outputs": [],
   "source": [
    "# --- Define Dataset, Model, etc. --- \n",
    "# ... (Implement a PyTorch Dataset to work with your pairings) ...\n",
    "\n",
    "model = SiameseNetwork(1536)  # Change embedding_size if needed\n",
    "device = torch.device(\"cuda\" if torch.cuda.is_available() else \"cpu\")\n",
    "\n",
    "class PairingsDataset(Dataset):\n",
    "    def __init__(self, pairings):\n",
    "        self.pairings = pairings\n",
    "\n",
    "    def __len__(self):\n",
    "        return len(self.pairings)\n",
    "\n",
    "    def __getitem__(self, index):\n",
    "        embedding_1, embedding_2, label = self.pairings[index]\n",
    "        return embedding_1, embedding_2, torch.tensor(label).float()\n",
    "\n",
    "# --- Create Dataloader ---\n",
    "dataset = PairingsDataset(pairings)\n",
    "dataloader = DataLoader(dataset, batch_size=32, shuffle=True, worker_init_fn=np.random.seed(seed)) \n",
    "\n",
    "#print(device)\n",
    "\n",
    "model.to(device)\n",
    " \n",
    "optimizer = optim.Adam(model.parameters(), lr=0.001)\n",
    "criterion = nn.BCEWithLogitsLoss()\n",
    "\n",
    "# --- Train the Model ---\n",
    "train_siamese(model, dataloader, num_epochs=1, optimizer=optimizer, criterion=criterion, device=device)"
   ]
  },
  {
   "cell_type": "code",
   "execution_count": null,
   "id": "f2c5dc7b",
   "metadata": {},
   "outputs": [],
   "source": [
    "import pandas as pd\n",
    "from sklearn.manifold import TSNE\n",
    "\n",
    "def evaluate_embeddings(model, df, output_file=\"embedding_visualization.png\"):\n",
    "    embeddings = []\n",
    "    labels = []  # Assuming you have author labels in your df\n",
    "\n",
    "    for _, row in df.iterrows():\n",
    "        embedding = generate_embedding(model, row['Embedding'])\n",
    "        embeddings.append(embedding)\n",
    "        labels.append(row['Author'])\n",
    "\n",
    "    # Reduce dimensionality for visualization\n",
    "    embeddings_2d = TSNE(n_components=2).fit_transform(embeddings)\n",
    "\n",
    "    # Create a scatter plot\n",
    "    plt.scatter(embeddings_2d[:,0], embeddings_2d[:,1], c=labels)\n",
    "    plt.title(\"Visualization of Embeddings\")\n",
    "    plt.savefig(output_file)"
   ]
  },
  {
   "cell_type": "code",
   "execution_count": null,
   "id": "e28f6d62",
   "metadata": {},
   "outputs": [],
   "source": [
    "evaluate_embeddings(model, data_length)"
   ]
  },
  {
   "cell_type": "code",
   "execution_count": null,
   "id": "1dda4426",
   "metadata": {},
   "outputs": [],
   "source": [
    "import pandas as pd\n",
    "from sklearn.manifold import TSNE\n",
    "import torch # Make sure you have PyTorch installed \n",
    "\n",
    "def generate_embedding(model, emb):\n",
    "    \"\"\"\n",
    "    Generates an embedding from text using the trained model.\n",
    "\n",
    "    Args:\n",
    "        model (nn.Module): Your trained Siamese network model.\n",
    "        text (str): The input text (from the 'Cleaned_Content' column).\n",
    "\n",
    "    Returns:\n",
    "        torch.Tensor: The embedding generated by the model.\n",
    "    \"\"\"\n",
    "    model.eval()\n",
    "    with torch.no_grad():\n",
    "        # Text preprocessing (if needed):\n",
    "        # Example: Assuming you have a function to tokenize and encode your text \n",
    "        embedding = model.embedding_branch(torch.tensor(emb, dtype=torch.float32)) \n",
    "\n",
    "    return embedding.cpu().detach().numpy()\n"
   ]
  },
  {
   "cell_type": "code",
   "execution_count": null,
   "id": "1fe4ff1c",
   "metadata": {},
   "outputs": [],
   "source": [
    "embedding = model.embedding_branch(input_data) "
   ]
  }
 ],
 "metadata": {
  "kernelspec": {
   "display_name": "Python 3 (ipykernel)",
   "language": "python",
   "name": "python3"
  },
  "language_info": {
   "codemirror_mode": {
    "name": "ipython",
    "version": 3
   },
   "file_extension": ".py",
   "mimetype": "text/x-python",
   "name": "python",
   "nbconvert_exporter": "python",
   "pygments_lexer": "ipython3",
   "version": "3.9.13"
  }
 },
 "nbformat": 4,
 "nbformat_minor": 5
}
